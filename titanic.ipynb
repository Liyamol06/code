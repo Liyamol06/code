{
  "nbformat": 4,
  "nbformat_minor": 0,
  "metadata": {
    "colab": {
      "name": "titanic.ipynb",
      "provenance": [],
      "collapsed_sections": [],
      "authorship_tag": "ABX9TyNBufYihG9LygH+zy7RxAcX"
    },
    "kernelspec": {
      "name": "python3",
      "display_name": "Python 3"
    }
  },
  "cells": [
    {
      "cell_type": "code",
      "metadata": {
        "id": "ytEgX0B-orYD",
        "colab_type": "code",
        "colab": {
          "base_uri": "https://localhost:8080/",
          "height": 120
        },
        "outputId": "e812bd15-d7e9-4b35-b297-e2cb7d6b50aa"
      },
      "source": [
        "from google.colab import drive\n",
        "drive.mount('/content/drive')"
      ],
      "execution_count": 3,
      "outputs": [
        {
          "output_type": "stream",
          "text": [
            "Go to this URL in a browser: https://accounts.google.com/o/oauth2/auth?client_id=947318989803-6bn6qk8qdgf4n4g3pfee6491hc0brc4i.apps.googleusercontent.com&redirect_uri=urn%3aietf%3awg%3aoauth%3a2.0%3aoob&scope=email%20https%3a%2f%2fwww.googleapis.com%2fauth%2fdocs.test%20https%3a%2f%2fwww.googleapis.com%2fauth%2fdrive%20https%3a%2f%2fwww.googleapis.com%2fauth%2fdrive.photos.readonly%20https%3a%2f%2fwww.googleapis.com%2fauth%2fpeopleapi.readonly&response_type=code\n",
            "\n",
            "Enter your authorization code:\n",
            "··········\n",
            "Mounted at /content/drive\n"
          ],
          "name": "stdout"
        }
      ]
    },
    {
      "cell_type": "code",
      "metadata": {
        "id": "BNrZUucVcl6_",
        "colab_type": "code",
        "colab": {}
      },
      "source": [
        "import pandas as pd\n",
        "import numpy as np\n",
        "import re\n",
        "from sklearn.preprocessing import LabelEncoder, OneHotEncoder, MinMaxScaler\n",
        "from sklearn.neighbors import KNeighborsClassifier\n",
        "from sklearn.tree import DecisionTreeClassifier\n",
        "from sklearn.naive_bayes import GaussianNB\n",
        "from sklearn.linear_model import LogisticRegression, SGDClassifier\n",
        "from sklearn.ensemble import RandomForestClassifier\n",
        "from sklearn.metrics import confusion_matrix, accuracy_score"
      ],
      "execution_count": 4,
      "outputs": []
    },
    {
      "cell_type": "markdown",
      "metadata": {
        "id": "U2THZRG7cwSy",
        "colab_type": "text"
      },
      "source": [
        "titanic_data = Training data set         \n",
        "titanic_test_data = Testing data set"
      ]
    },
    {
      "cell_type": "code",
      "metadata": {
        "id": "PRiWqEjgfZXU",
        "colab_type": "code",
        "colab": {
          "base_uri": "https://localhost:8080/",
          "height": 196
        },
        "outputId": "86101504-a73c-41be-e978-36b0f86c2b3b"
      },
      "source": [
        " titanic_data = pd.read_csv('/content/drive/My Drive/titanic.zip (Unzipped Files)/train.csv')\n",
        " titanic_data.head()\n",
        " titanic_test_data = pd.read_csv('/content/drive/My Drive/titanic.zip (Unzipped Files)/test.csv')\n",
        " titanic_test_data.head()"
      ],
      "execution_count": 5,
      "outputs": [
        {
          "output_type": "execute_result",
          "data": {
            "text/html": [
              "<div>\n",
              "<style scoped>\n",
              "    .dataframe tbody tr th:only-of-type {\n",
              "        vertical-align: middle;\n",
              "    }\n",
              "\n",
              "    .dataframe tbody tr th {\n",
              "        vertical-align: top;\n",
              "    }\n",
              "\n",
              "    .dataframe thead th {\n",
              "        text-align: right;\n",
              "    }\n",
              "</style>\n",
              "<table border=\"1\" class=\"dataframe\">\n",
              "  <thead>\n",
              "    <tr style=\"text-align: right;\">\n",
              "      <th></th>\n",
              "      <th>PassengerId</th>\n",
              "      <th>Pclass</th>\n",
              "      <th>Name</th>\n",
              "      <th>Sex</th>\n",
              "      <th>Age</th>\n",
              "      <th>SibSp</th>\n",
              "      <th>Parch</th>\n",
              "      <th>Ticket</th>\n",
              "      <th>Fare</th>\n",
              "      <th>Cabin</th>\n",
              "      <th>Embarked</th>\n",
              "    </tr>\n",
              "  </thead>\n",
              "  <tbody>\n",
              "    <tr>\n",
              "      <th>0</th>\n",
              "      <td>892</td>\n",
              "      <td>3</td>\n",
              "      <td>Kelly, Mr. James</td>\n",
              "      <td>male</td>\n",
              "      <td>34.5</td>\n",
              "      <td>0</td>\n",
              "      <td>0</td>\n",
              "      <td>330911</td>\n",
              "      <td>7.8292</td>\n",
              "      <td>NaN</td>\n",
              "      <td>Q</td>\n",
              "    </tr>\n",
              "    <tr>\n",
              "      <th>1</th>\n",
              "      <td>893</td>\n",
              "      <td>3</td>\n",
              "      <td>Wilkes, Mrs. James (Ellen Needs)</td>\n",
              "      <td>female</td>\n",
              "      <td>47.0</td>\n",
              "      <td>1</td>\n",
              "      <td>0</td>\n",
              "      <td>363272</td>\n",
              "      <td>7.0000</td>\n",
              "      <td>NaN</td>\n",
              "      <td>S</td>\n",
              "    </tr>\n",
              "    <tr>\n",
              "      <th>2</th>\n",
              "      <td>894</td>\n",
              "      <td>2</td>\n",
              "      <td>Myles, Mr. Thomas Francis</td>\n",
              "      <td>male</td>\n",
              "      <td>62.0</td>\n",
              "      <td>0</td>\n",
              "      <td>0</td>\n",
              "      <td>240276</td>\n",
              "      <td>9.6875</td>\n",
              "      <td>NaN</td>\n",
              "      <td>Q</td>\n",
              "    </tr>\n",
              "    <tr>\n",
              "      <th>3</th>\n",
              "      <td>895</td>\n",
              "      <td>3</td>\n",
              "      <td>Wirz, Mr. Albert</td>\n",
              "      <td>male</td>\n",
              "      <td>27.0</td>\n",
              "      <td>0</td>\n",
              "      <td>0</td>\n",
              "      <td>315154</td>\n",
              "      <td>8.6625</td>\n",
              "      <td>NaN</td>\n",
              "      <td>S</td>\n",
              "    </tr>\n",
              "    <tr>\n",
              "      <th>4</th>\n",
              "      <td>896</td>\n",
              "      <td>3</td>\n",
              "      <td>Hirvonen, Mrs. Alexander (Helga E Lindqvist)</td>\n",
              "      <td>female</td>\n",
              "      <td>22.0</td>\n",
              "      <td>1</td>\n",
              "      <td>1</td>\n",
              "      <td>3101298</td>\n",
              "      <td>12.2875</td>\n",
              "      <td>NaN</td>\n",
              "      <td>S</td>\n",
              "    </tr>\n",
              "  </tbody>\n",
              "</table>\n",
              "</div>"
            ],
            "text/plain": [
              "   PassengerId  Pclass  ... Cabin Embarked\n",
              "0          892       3  ...   NaN        Q\n",
              "1          893       3  ...   NaN        S\n",
              "2          894       2  ...   NaN        Q\n",
              "3          895       3  ...   NaN        S\n",
              "4          896       3  ...   NaN        S\n",
              "\n",
              "[5 rows x 11 columns]"
            ]
          },
          "metadata": {
            "tags": []
          },
          "execution_count": 5
        }
      ]
    },
    {
      "cell_type": "markdown",
      "metadata": {
        "id": "yD2R3JinApph",
        "colab_type": "text"
      },
      "source": [
        "# ***Handling missing values of*** **Age** "
      ]
    },
    {
      "cell_type": "code",
      "metadata": {
        "id": "D84aW6FVJf2B",
        "colab_type": "code",
        "colab": {}
      },
      "source": [
        "titanic_data['Title'] = titanic_data['Name'].str.extract('([A-Za-z]+)\\.',expand=True)\n",
        "titanic_test_data['Title'] = titanic_test_data.Name.str.extract('([A-Za-z]+)\\.', expand=True)\n",
        "titanic_test_data.loc[titanic_test_data.Title.isnull()]\n",
        "title_map = {'Capt': 'Mr', 'Col': 'Mr', 'Rev': 'Mr', 'Countess': 'Mrs', 'Don': 'Mr', 'Jonkheer': 'Mr',\n",
        "             'Lady': 'Mrs', 'Major': 'Mr', 'Mlle': 'Miss', 'Ms': 'Miss','Mme': 'Mrs', 'Sir': 'Mr', 'Dona': 'Mrs'}\n",
        "\n",
        "titanic_data.replace(title_map, inplace=True)\n",
        "titanic_test_data.replace(title_map, inplace=True)\n",
        "\n",
        "title_cat = ['Mrs', 'Miss', 'Mr', 'Master', 'Dr']\n",
        "for title in range(len(title_cat)):\n",
        "  train_age_title_mean = titanic_data.groupby('Title')['Age'].mean()[title_cat[title]]\n",
        "  test_age_title_mean = titanic_test_data.groupby('Title')['Age'].mean()[title_cat[title]]\n",
        "  \n",
        "  titanic_data.loc[(titanic_data.Age.isnull() & titanic_data.Title.str.contains(title_cat[title])), 'Age'] = train_age_title_mean\n",
        "  titanic_test_data.loc[(titanic_test_data.Age.isnull() & titanic_test_data.Title.str.contains(title_cat[title])), 'Age'] = test_age_title_mean\n",
        "  "
      ],
      "execution_count": 6,
      "outputs": []
    },
    {
      "cell_type": "markdown",
      "metadata": {
        "id": "_Xg-pEwEanS4",
        "colab_type": "text"
      },
      "source": [
        "## **Handling Cabin missing Values**"
      ]
    },
    {
      "cell_type": "code",
      "metadata": {
        "id": "HkaO9DdrA9r4",
        "colab_type": "code",
        "colab": {}
      },
      "source": [
        "titanic_data['Deck'] = titanic_data['Cabin'].str.extract('([A-Za-z]+)\\d',expand=True)\n",
        "titanic_test_data['Deck'] = titanic_test_data['Cabin'].str.extract('([A-Za-z]+)\\d',expand=True)\n",
        "\n",
        "titanic_data.groupby('Deck').count()\n",
        "titanic_test_data.groupby('Deck').count()\n",
        "\n",
        "titanic_data.loc[titanic_data.Deck.isnull(), 'Deck'] = 'NA'\n",
        "titanic_test_data.loc[titanic_test_data.Deck.isnull(), 'Deck'] = 'NA'"
      ],
      "execution_count": 7,
      "outputs": []
    },
    {
      "cell_type": "markdown",
      "metadata": {
        "id": "oZbMcKrJNnf4",
        "colab_type": "text"
      },
      "source": [
        "## **Handling Fare missing values**"
      ]
    },
    {
      "cell_type": "code",
      "metadata": {
        "id": "EGjl_rtANt8W",
        "colab_type": "code",
        "colab": {}
      },
      "source": [
        "titanic_test_data.Fare.fillna(titanic_test_data.Fare.mean(), inplace=True)"
      ],
      "execution_count": 9,
      "outputs": []
    },
    {
      "cell_type": "markdown",
      "metadata": {
        "id": "XoYfXnFceJcW",
        "colab_type": "text"
      },
      "source": [
        "## ***Handling Embarked Missing Value***"
      ]
    },
    {
      "cell_type": "code",
      "metadata": {
        "id": "T4FtMswBa4pA",
        "colab_type": "code",
        "colab": {}
      },
      "source": [
        "titanic_data.Embarked.fillna(titanic_data.Embarked.mode, inplace=True)"
      ],
      "execution_count": 10,
      "outputs": []
    },
    {
      "cell_type": "markdown",
      "metadata": {
        "id": "3FV2LarNQQUp",
        "colab_type": "text"
      },
      "source": [
        "## ***Handling Is alone and Fam***\n",
        "\n",
        "\n"
      ]
    },
    {
      "cell_type": "code",
      "metadata": {
        "id": "Ge2LF5YRQZar",
        "colab_type": "code",
        "colab": {}
      },
      "source": [
        "titanic_data['Fam'] = titanic_data.SibSp + titanic_data.Parch\n",
        "titanic_test_data['Fam'] = titanic_test_data.SibSp + titanic_test_data.Parch\n",
        "\n",
        "# titanic_data['is_alone'] = 1\n",
        "# titanic_data.loc[titanic_data.Fam > 0 , 'is_alone'] = 0\n",
        "\n",
        "# titanic_test_data['is_alone'] = 1\n",
        "# titanic_test_data.loc[titanic_test_data.Fam > 0, 'is_alone'] = 0"
      ],
      "execution_count": 16,
      "outputs": []
    },
    {
      "cell_type": "markdown",
      "metadata": {
        "id": "JisaEu13HQkZ",
        "colab_type": "text"
      },
      "source": [
        "# ***Setting X_train, X_test and y_train***\n"
      ]
    },
    {
      "cell_type": "code",
      "metadata": {
        "id": "rhGWzeEdrtTM",
        "colab_type": "code",
        "colab": {
          "base_uri": "https://localhost:8080/",
          "height": 196
        },
        "outputId": "c00b20fd-c908-4348-c1e1-c35eb0db0d4f"
      },
      "source": [
        "X_train = titanic_data.drop(['Survived', 'Name', 'Ticket', 'Cabin', 'Title', 'Deck'], axis=1)\n",
        "cols = list(X_train.columns.values)\n",
        "y_train = titanic_data['Survived']\n",
        "X_test = titanic_test_data.drop(['Name', 'Ticket', 'Cabin', 'Title', 'Deck'], axis=1)\n",
        "X_train.head()"
      ],
      "execution_count": 19,
      "outputs": [
        {
          "output_type": "execute_result",
          "data": {
            "text/html": [
              "<div>\n",
              "<style scoped>\n",
              "    .dataframe tbody tr th:only-of-type {\n",
              "        vertical-align: middle;\n",
              "    }\n",
              "\n",
              "    .dataframe tbody tr th {\n",
              "        vertical-align: top;\n",
              "    }\n",
              "\n",
              "    .dataframe thead th {\n",
              "        text-align: right;\n",
              "    }\n",
              "</style>\n",
              "<table border=\"1\" class=\"dataframe\">\n",
              "  <thead>\n",
              "    <tr style=\"text-align: right;\">\n",
              "      <th></th>\n",
              "      <th>PassengerId</th>\n",
              "      <th>Pclass</th>\n",
              "      <th>Sex</th>\n",
              "      <th>Age</th>\n",
              "      <th>SibSp</th>\n",
              "      <th>Parch</th>\n",
              "      <th>Fare</th>\n",
              "      <th>Embarked</th>\n",
              "      <th>Fam</th>\n",
              "      <th>is_alone</th>\n",
              "    </tr>\n",
              "  </thead>\n",
              "  <tbody>\n",
              "    <tr>\n",
              "      <th>0</th>\n",
              "      <td>1</td>\n",
              "      <td>3</td>\n",
              "      <td>male</td>\n",
              "      <td>22.0</td>\n",
              "      <td>1</td>\n",
              "      <td>0</td>\n",
              "      <td>7.2500</td>\n",
              "      <td>S</td>\n",
              "      <td>1</td>\n",
              "      <td>0</td>\n",
              "    </tr>\n",
              "    <tr>\n",
              "      <th>1</th>\n",
              "      <td>2</td>\n",
              "      <td>1</td>\n",
              "      <td>female</td>\n",
              "      <td>38.0</td>\n",
              "      <td>1</td>\n",
              "      <td>0</td>\n",
              "      <td>71.2833</td>\n",
              "      <td>C</td>\n",
              "      <td>1</td>\n",
              "      <td>0</td>\n",
              "    </tr>\n",
              "    <tr>\n",
              "      <th>2</th>\n",
              "      <td>3</td>\n",
              "      <td>3</td>\n",
              "      <td>female</td>\n",
              "      <td>26.0</td>\n",
              "      <td>0</td>\n",
              "      <td>0</td>\n",
              "      <td>7.9250</td>\n",
              "      <td>S</td>\n",
              "      <td>0</td>\n",
              "      <td>1</td>\n",
              "    </tr>\n",
              "    <tr>\n",
              "      <th>3</th>\n",
              "      <td>4</td>\n",
              "      <td>1</td>\n",
              "      <td>female</td>\n",
              "      <td>35.0</td>\n",
              "      <td>1</td>\n",
              "      <td>0</td>\n",
              "      <td>53.1000</td>\n",
              "      <td>S</td>\n",
              "      <td>1</td>\n",
              "      <td>0</td>\n",
              "    </tr>\n",
              "    <tr>\n",
              "      <th>4</th>\n",
              "      <td>5</td>\n",
              "      <td>3</td>\n",
              "      <td>male</td>\n",
              "      <td>35.0</td>\n",
              "      <td>0</td>\n",
              "      <td>0</td>\n",
              "      <td>8.0500</td>\n",
              "      <td>S</td>\n",
              "      <td>0</td>\n",
              "      <td>1</td>\n",
              "    </tr>\n",
              "  </tbody>\n",
              "</table>\n",
              "</div>"
            ],
            "text/plain": [
              "   PassengerId  Pclass     Sex   Age  ...     Fare  Embarked  Fam is_alone\n",
              "0            1       3    male  22.0  ...   7.2500         S    1        0\n",
              "1            2       1  female  38.0  ...  71.2833         C    1        0\n",
              "2            3       3  female  26.0  ...   7.9250         S    0        1\n",
              "3            4       1  female  35.0  ...  53.1000         S    1        0\n",
              "4            5       3    male  35.0  ...   8.0500         S    0        1\n",
              "\n",
              "[5 rows x 10 columns]"
            ]
          },
          "metadata": {
            "tags": []
          },
          "execution_count": 19
        }
      ]
    },
    {
      "cell_type": "code",
      "metadata": {
        "id": "0ajr1vM4RAKP",
        "colab_type": "code",
        "colab": {
          "base_uri": "https://localhost:8080/",
          "height": 301
        },
        "outputId": "46257b69-ff3a-49e5-af46-bcaef72a17a6"
      },
      "source": [
        "X_train.info()"
      ],
      "execution_count": 20,
      "outputs": [
        {
          "output_type": "stream",
          "text": [
            "<class 'pandas.core.frame.DataFrame'>\n",
            "RangeIndex: 891 entries, 0 to 890\n",
            "Data columns (total 10 columns):\n",
            " #   Column       Non-Null Count  Dtype  \n",
            "---  ------       --------------  -----  \n",
            " 0   PassengerId  891 non-null    int64  \n",
            " 1   Pclass       891 non-null    int64  \n",
            " 2   Sex          891 non-null    object \n",
            " 3   Age          891 non-null    float64\n",
            " 4   SibSp        891 non-null    int64  \n",
            " 5   Parch        891 non-null    int64  \n",
            " 6   Fare         891 non-null    float64\n",
            " 7   Embarked     891 non-null    object \n",
            " 8   Fam          891 non-null    int64  \n",
            " 9   is_alone     891 non-null    int64  \n",
            "dtypes: float64(2), int64(6), object(2)\n",
            "memory usage: 69.7+ KB\n"
          ],
          "name": "stdout"
        }
      ]
    },
    {
      "cell_type": "markdown",
      "metadata": {
        "id": "mD59EGyOaGSq",
        "colab_type": "text"
      },
      "source": [
        "## ***Encoding***"
      ]
    },
    {
      "cell_type": "code",
      "metadata": {
        "id": "5pdNRxLsKB8I",
        "colab_type": "code",
        "colab": {
          "base_uri": "https://localhost:8080/",
          "height": 196
        },
        "outputId": "fb8028f0-64d2-46f2-da70-f1b127a8f453"
      },
      "source": [
        "label_encoder = LabelEncoder()\n",
        "X_train['Sex'] = label_encoder.fit_transform(X_train['Sex'])\n",
        "X_train['Pclass'] = label_encoder.fit_transform(X_train['Pclass'])\n",
        "X_train['Embarked'] = label_encoder.fit_transform(X_train['Embarked'].astype('str'))\n",
        "\n",
        "X_test['Sex'] = label_encoder.fit_transform(X_test['Sex'])\n",
        "X_test['Pclass'] = label_encoder.fit_transform(X_test['Pclass'])\n",
        "X_test['Embarked'] = label_encoder.fit_transform(X_test['Embarked'].astype('str'))\n",
        "X_train.head()"
      ],
      "execution_count": 21,
      "outputs": [
        {
          "output_type": "execute_result",
          "data": {
            "text/html": [
              "<div>\n",
              "<style scoped>\n",
              "    .dataframe tbody tr th:only-of-type {\n",
              "        vertical-align: middle;\n",
              "    }\n",
              "\n",
              "    .dataframe tbody tr th {\n",
              "        vertical-align: top;\n",
              "    }\n",
              "\n",
              "    .dataframe thead th {\n",
              "        text-align: right;\n",
              "    }\n",
              "</style>\n",
              "<table border=\"1\" class=\"dataframe\">\n",
              "  <thead>\n",
              "    <tr style=\"text-align: right;\">\n",
              "      <th></th>\n",
              "      <th>PassengerId</th>\n",
              "      <th>Pclass</th>\n",
              "      <th>Sex</th>\n",
              "      <th>Age</th>\n",
              "      <th>SibSp</th>\n",
              "      <th>Parch</th>\n",
              "      <th>Fare</th>\n",
              "      <th>Embarked</th>\n",
              "      <th>Fam</th>\n",
              "      <th>is_alone</th>\n",
              "    </tr>\n",
              "  </thead>\n",
              "  <tbody>\n",
              "    <tr>\n",
              "      <th>0</th>\n",
              "      <td>1</td>\n",
              "      <td>2</td>\n",
              "      <td>1</td>\n",
              "      <td>22.0</td>\n",
              "      <td>1</td>\n",
              "      <td>0</td>\n",
              "      <td>7.2500</td>\n",
              "      <td>3</td>\n",
              "      <td>1</td>\n",
              "      <td>0</td>\n",
              "    </tr>\n",
              "    <tr>\n",
              "      <th>1</th>\n",
              "      <td>2</td>\n",
              "      <td>0</td>\n",
              "      <td>0</td>\n",
              "      <td>38.0</td>\n",
              "      <td>1</td>\n",
              "      <td>0</td>\n",
              "      <td>71.2833</td>\n",
              "      <td>1</td>\n",
              "      <td>1</td>\n",
              "      <td>0</td>\n",
              "    </tr>\n",
              "    <tr>\n",
              "      <th>2</th>\n",
              "      <td>3</td>\n",
              "      <td>2</td>\n",
              "      <td>0</td>\n",
              "      <td>26.0</td>\n",
              "      <td>0</td>\n",
              "      <td>0</td>\n",
              "      <td>7.9250</td>\n",
              "      <td>3</td>\n",
              "      <td>0</td>\n",
              "      <td>1</td>\n",
              "    </tr>\n",
              "    <tr>\n",
              "      <th>3</th>\n",
              "      <td>4</td>\n",
              "      <td>0</td>\n",
              "      <td>0</td>\n",
              "      <td>35.0</td>\n",
              "      <td>1</td>\n",
              "      <td>0</td>\n",
              "      <td>53.1000</td>\n",
              "      <td>3</td>\n",
              "      <td>1</td>\n",
              "      <td>0</td>\n",
              "    </tr>\n",
              "    <tr>\n",
              "      <th>4</th>\n",
              "      <td>5</td>\n",
              "      <td>2</td>\n",
              "      <td>1</td>\n",
              "      <td>35.0</td>\n",
              "      <td>0</td>\n",
              "      <td>0</td>\n",
              "      <td>8.0500</td>\n",
              "      <td>3</td>\n",
              "      <td>0</td>\n",
              "      <td>1</td>\n",
              "    </tr>\n",
              "  </tbody>\n",
              "</table>\n",
              "</div>"
            ],
            "text/plain": [
              "   PassengerId  Pclass  Sex   Age  ...     Fare  Embarked  Fam  is_alone\n",
              "0            1       2    1  22.0  ...   7.2500         3    1         0\n",
              "1            2       0    0  38.0  ...  71.2833         1    1         0\n",
              "2            3       2    0  26.0  ...   7.9250         3    0         1\n",
              "3            4       0    0  35.0  ...  53.1000         3    1         0\n",
              "4            5       2    1  35.0  ...   8.0500         3    0         1\n",
              "\n",
              "[5 rows x 10 columns]"
            ]
          },
          "metadata": {
            "tags": []
          },
          "execution_count": 21
        }
      ]
    },
    {
      "cell_type": "markdown",
      "metadata": {
        "id": "oxrMOnKa6P-A",
        "colab_type": "text"
      },
      "source": [
        "Scaling"
      ]
    },
    {
      "cell_type": "code",
      "metadata": {
        "id": "v5Bkxg9V6ZE4",
        "colab_type": "code",
        "colab": {}
      },
      "source": [
        "minmax = MinMaxScaler(feature_range=(0,1))\n",
        "minmax.fit(X_train)\n",
        "minmax.fit(X_test)\n",
        "X_train = minmax.transform(X_train)\n",
        "X_test = minmax.transform(X_test)"
      ],
      "execution_count": 22,
      "outputs": []
    },
    {
      "cell_type": "markdown",
      "metadata": {
        "id": "wmX1dn8VRr-W",
        "colab_type": "text"
      },
      "source": [
        "ML Algms"
      ]
    },
    {
      "cell_type": "markdown",
      "metadata": {
        "id": "pT9OkNY7shtR",
        "colab_type": "text"
      },
      "source": [
        "**RandomForest Classifier**"
      ]
    },
    {
      "cell_type": "code",
      "metadata": {
        "id": "DVYYBfaltBJw",
        "colab_type": "code",
        "colab": {}
      },
      "source": [
        "rand_fore = RandomForestClassifier()\n",
        "rand_fore.fit(X_train, y_train)\n",
        "y_predict = rand_fore.predict(X_test)\n",
        "submission = pd.DataFrame({'PassengerId': titanic_test_data.PassengerId,\n",
        "                           'Survived': y_predict})\n",
        "submission.to_csv('/content/drive/My Drive/titanic.zip (Unzipped Files)/submission.csv', index=False)"
      ],
      "execution_count": 30,
      "outputs": []
    }
  ]
}